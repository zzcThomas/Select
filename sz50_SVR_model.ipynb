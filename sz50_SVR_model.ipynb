{
 "cells": [
  {
   "cell_type": "code",
   "execution_count": 2,
   "metadata": {},
   "outputs": [],
   "source": [
    "import tushare as ts\n",
    "import pandas as pd\n",
    "import numpy as np\n",
    "import statsmodels.api as sm\n",
    "from statsmodels import regression\n",
    "import ffn\n",
    "from sklearn.svm import SVR\n",
    "import matplotlib.pyplot as plt"
   ]
  },
  {
   "cell_type": "code",
   "execution_count": 23,
   "metadata": {
    "collapsed": true
   },
   "outputs": [],
   "source": [
    "class Model:\n",
    "    \n",
    "    #初始化参数\n",
    "    def __init__(self, data, train_start, train_end, test_start, test_end, n):\n",
    "        \n",
    "        self.code = data['code']\n",
    "        self.train_start = train_start\n",
    "        self.train_end = train_end\n",
    "        self.test_start = test_start\n",
    "        self.test_end = test_end\n",
    "        self.n = n\n",
    "        \n",
    "    #获取单只股票初始训练集和测试集\n",
    "    def getInitData(self, code):\n",
    "        \n",
    "        train_start = self.train_start\n",
    "        train_end = self.train_end\n",
    "        \n",
    "        test_start = self.test_start\n",
    "        test_end = self.test_end\n",
    "        \n",
    "        train_data = ts.get_hist_data(code, start = train_start, end = train_end)\n",
    "        test_data = ts.get_hist_data(code, start = test_start, end = test_end)\n",
    "\n",
    "        train_data = train_data.loc[:,['open','high','close','low','price_change','p_change','turnover']]\n",
    "        test_data = test_data.loc[:,['open','high','close','low','price_change','p_change','turnover']]\n",
    "        \n",
    "        return train_data, test_data\n",
    "    \n",
    "    #训练和预测股票的N期收益\n",
    "    def train(self):\n",
    "        #使用scikit-learn导入SVR进行训练和预测\n",
    "        x_train = []\n",
    "        y_label = []\n",
    "        x_test = []\n",
    "        \n",
    "        for code in self.code:\n",
    "            train_data, test_data = self.getInitData(code)\n",
    "            \n",
    "            #计算特征\n",
    "            '''\n",
    "            以后特征的计算，写在feature的class里即可\n",
    "            '''\n",
    "            feature = Feature(train_data, test_data, self.n)\n",
    "            train_data, test_data = feature.cal_mean()\n",
    "            train_data = feature.cal_nReturn(train_data)\n",
    "\n",
    "            svr_rbf = SVR(kernel = 'rbf', C = 1e3, gamma = 0.1)\n",
    "            X = train_data.iloc[:,-9:-2]\n",
    "            X1 = test_data.iloc[:,-8:-1]\n",
    "            y = train_data.iloc[:,-1:]\n",
    "            for i in range(len(X)):\n",
    "                x_train.append(list(X.iloc[i]))\n",
    "            for i in range(len(y)):\n",
    "                y_label.append(list(y.iloc[i]))\n",
    "            for i in range(len(X1)):    \n",
    "                x_test.append(list(X1.iloc[i]))\n",
    "\n",
    "        y_rbf = svr_rbf.fit(x_train,y_label).predict(x_test)\n",
    "        \n",
    "        return y_rbf\n",
    "\n",
    "    #得到预期代码\n",
    "\n",
    "#     def getCode():\n",
    "        \n",
    "#         return \n",
    "        "
   ]
  },
  {
   "cell_type": "code",
   "execution_count": 19,
   "metadata": {
    "collapsed": true
   },
   "outputs": [],
   "source": [
    "class Feature:\n",
    "    \n",
    "    def __init__(self, train_data, test_data, n):\n",
    "        self.train_data = train_data\n",
    "        self.test_data = test_data\n",
    "        self.n = n\n",
    "        \n",
    "    #计算开盘到收盘之间的价格均值\n",
    "    def cal_mean(self):\n",
    "        train_data = self.train_data\n",
    "        test_data = self.test_data\n",
    "        \n",
    "        first_data_open = train_data.loc[:,['open']]\n",
    "        first_data_close = train_data.loc[:,['close']]\n",
    "\n",
    "        second_data_open = test_data.loc[:,['open']]\n",
    "        second_data_close = test_data.loc[:,['close']]\n",
    "\n",
    "        first_data_open.rename(columns = {'open':'mean'},inplace=True)\n",
    "        first_data_close.rename(columns = {'close':'mean'},inplace=True)\n",
    "        first_data_mean = (first_data_close + first_data_open)/2\n",
    "\n",
    "        second_data_open.rename(columns = {'open':'mean'},inplace=True)\n",
    "        second_data_close.rename(columns = {'close':'mean'},inplace=True)\n",
    "        second_data_mean = (second_data_close + second_data_open)/2\n",
    "\n",
    "        train_data['mean'] = first_data_mean\n",
    "        test_data['mean'] = second_data_mean\n",
    "        \n",
    "        return train_data,test_data\n",
    "    \n",
    "    #计算N期收益\n",
    "    def cal_nReturn(self, train_data):\n",
    "        n = self.n\n",
    "        #训练集的N期平均收益率\n",
    "        origin_mean = train_data.loc[:,['mean']]\n",
    "        origin_mean_n = origin_mean.shift(n)\n",
    "        train_simpleret = (origin_mean - origin_mean_n) / origin_mean_n\n",
    "        train_data['n_simpleret'] = train_simpleret\n",
    "        #填充缺失的值\n",
    "        train_data = train_data.fillna(method='bfill')\n",
    "        \n",
    "        return train_data"
   ]
  },
  {
   "cell_type": "code",
   "execution_count": 24,
   "metadata": {},
   "outputs": [
    {
     "name": "stderr",
     "output_type": "stream",
     "text": [
      "D:\\Anaconda\\lib\\site-packages\\sklearn\\utils\\validation.py:526: DataConversionWarning: A column-vector y was passed when a 1d array was expected. Please change the shape of y to (n_samples, ), for example using ravel().\n",
      "  y = column_or_1d(y, warn=True)\n"
     ]
    },
    {
     "name": "stdout",
     "output_type": "stream",
     "text": [
      "[-0.01226435  0.00128179  0.00536256 ...,  0.05089279  0.04711263\n",
      "  0.04966329]\n"
     ]
    }
   ],
   "source": [
    "#主函数\n",
    "model = Model(ts.get_sz50s(), '2017-03-01', '2017-06-30', '2017-07-01', '2017-08-31', 15)\n",
    "\n",
    "print (model.train())"
   ]
  },
  {
   "cell_type": "code",
   "execution_count": null,
   "metadata": {
    "collapsed": true
   },
   "outputs": [],
   "source": []
  }
 ],
 "metadata": {
  "kernelspec": {
   "display_name": "Python 3",
   "language": "python",
   "name": "python3"
  },
  "language_info": {
   "codemirror_mode": {
    "name": "ipython",
    "version": 3
   },
   "file_extension": ".py",
   "mimetype": "text/x-python",
   "name": "python",
   "nbconvert_exporter": "python",
   "pygments_lexer": "ipython3",
   "version": "3.6.1"
  }
 },
 "nbformat": 4,
 "nbformat_minor": 2
}
